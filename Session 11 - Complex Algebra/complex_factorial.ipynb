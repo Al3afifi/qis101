{
 "cells": [
  {
   "cell_type": "code",
   "execution_count": 9,
   "id": "711caeff-3aef-4455-9d5c-2ee557477e6d",
   "metadata": {},
   "outputs": [
    {
     "data": {
      "text/latex": [
       "$\\displaystyle {i!}=0.4980-0.1549j$"
      ],
      "text/plain": [
       "<IPython.core.display.Math object>"
      ]
     },
     "metadata": {},
     "output_type": "display_data"
    }
   ],
   "source": [
    "# plot_euler_gamma.ipynb\n",
    "# Cell 1\n",
    "\n",
    "import numpy as np\n",
    "import scipy.integrate as intgt\n",
    "from IPython.display import Math\n",
    "\n",
    "# references for research: https://www.quora.com/What-is-i-factorial\n",
    "\n",
    "# using the formulas we derived from Euler's Gamma function\n",
    "def f(x):\n",
    "    return np.exp(-x) * np.cos(np.log(x))\n",
    "\n",
    "# this function was hte imaginary part, \n",
    "def g(x):\n",
    "    return np.exp(-x) * np.sin(np.log(x))\n",
    "\n",
    "def main():\n",
    "    #print(np.round(euler_gamma(complex(0, 1)), 5))\n",
    "    # testing out, but of couse it wouldn't work\n",
    "    \n",
    "    # using the formulas and integrating over them using scipy\n",
    "    intg_f = intgt.quad(f, 0, 1000)[0]\n",
    "    intg_g = intgt.quad(g, 0, 1000)[0]\n",
    "    \n",
    "    # final result as a complex value\n",
    "    factorial = complex(intg_f, intg_g)\n",
    "    \n",
    "    # print it out using latex encoding\n",
    "    display(Math(rf\"${{i!}}={factorial:.4f}$\"))\n",
    "    \n",
    "main()"
   ]
  },
  {
   "cell_type": "code",
   "execution_count": null,
   "id": "b7d53058-11fd-4fa3-8836-cf19b6e4e11a",
   "metadata": {},
   "outputs": [],
   "source": []
  }
 ],
 "metadata": {
  "interpreter": {
   "hash": "4431dc44d4f2686070e0fc53d953ad3cc7928e817d4e69983712ddc54c23870a"
  },
  "kernelspec": {
   "display_name": "Python 3 (ipykernel)",
   "language": "python",
   "name": "python3"
  },
  "language_info": {
   "codemirror_mode": {
    "name": "ipython",
    "version": 3
   },
   "file_extension": ".py",
   "mimetype": "text/x-python",
   "name": "python",
   "nbconvert_exporter": "python",
   "pygments_lexer": "ipython3",
   "version": "3.10.4"
  }
 },
 "nbformat": 4,
 "nbformat_minor": 5
}
